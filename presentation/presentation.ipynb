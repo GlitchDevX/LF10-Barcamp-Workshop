{
 "cells": [
  {
   "cell_type": "code",
   "execution_count": 9,
   "id": "51800e3a",
   "metadata": {},
   "outputs": [],
   "source": [
    "from abc import abstractmethod\n",
    "from math import pi"
   ]
  },
  {
   "cell_type": "markdown",
   "id": "be3882c5",
   "metadata": {},
   "source": [
    "# The Visitor Pattern\n",
    "\n",
    "---\n",
    "\n",
    "## Introduction\n",
    "\n",
    "The Visitor Pattern is a behavioral design pattern.  \n",
    "It allows us to separate algorithms from the objects on which they operate.  \n",
    "\n",
    "**Key idea:**  \n",
    "Instead of putting logic inside the object itself, we \"visit\" the object with a special visitor class.\n",
    "\n",
    "---"
   ]
  },
  {
   "cell_type": "code",
   "execution_count": null,
   "id": "5d9735fa",
   "metadata": {},
   "outputs": [],
   "source": [
    "class NaiveSquare:\n",
    "    def __init__(self, side):\n",
    "        self.side = side\n",
    "\n",
    "    def area(self):\n",
    "        pass\n",
    "\n",
    "    def perimeter(self):\n",
    "        pass\n",
    "\n",
    "class NaiveCircle:\n",
    "    def __init__(self, radius):\n",
    "        self.radius = radius\n",
    "    \n",
    "    def area(self):\n",
    "        pass\n",
    "\n",
    "    def perimeter(self):\n",
    "        pass"
   ]
  },
  {
   "cell_type": "markdown",
   "id": "b3a76780",
   "metadata": {},
   "source": [
    "## Problem\n",
    "\n",
    "Imagine you have a structure of different elements like `Circle` or `Square` and you want to perform different operations on them.  \n",
    "\n",
    "**Naive approach:**  \n",
    "Add methods for each operation inside every class.  \n",
    "→ This leads to bloat and violates the **Single Responsibility Principle**.  \n",
    "\n",
    "**Visitor Pattern solution:**  \n",
    "We define a `Visitor` that encapsulates these operations. \n",
    "\n",
    "**Structure of the Visitor Pattern:**\n",
    "\n",
    "- **Element**: Defines an `accept(visitor)` method.  \n",
    "- **Concrete Element**: Implements `accept` and calls the appropriate visitor method.  \n",
    "- **Visitor**: Declares visit methods for each element type.  \n",
    "- **Concrete Visitor**: Implements specific behavior for each element type.\n",
    "\n",
    "![UML](../uml/VisitorPattern.png)"
   ]
  },
  {
   "cell_type": "code",
   "execution_count": 10,
   "id": "0aea16c5",
   "metadata": {},
   "outputs": [],
   "source": [
    "class Visitor:\n",
    "\n",
    "    @abstractmethod\n",
    "    def visit_square(self, element):\n",
    "        pass\n",
    "\n",
    "    @abstractmethod\n",
    "    def visit_circle(self, element):\n",
    "        pass\n",
    "\n",
    "\n",
    "class AreaVisitor(Visitor):\n",
    "\n",
    "    def visit_square(self, element):\n",
    "        return element.side ** 2\n",
    "\n",
    "    def visit_circle(self, element):\n",
    "        return pi * element.radius ** 2\n",
    "\n",
    "\n",
    "class PerimeterVisitor(Visitor):\n",
    "\n",
    "    def visit_square(self, element):\n",
    "        return element.side * 4\n",
    "\n",
    "    def visit_circle(self, element):\n",
    "        return 2 * pi * element.radius"
   ]
  },
  {
   "cell_type": "code",
   "execution_count": 11,
   "id": "c5c1c977",
   "metadata": {},
   "outputs": [],
   "source": [
    "class GeometricShape:\n",
    "    @abstractmethod\n",
    "    def accept(self, visitor: Visitor):\n",
    "        pass\n",
    "\n",
    "\n",
    "class Square(GeometricShape):\n",
    "    def __init__(self, side):\n",
    "        self.side = side\n",
    "\n",
    "    def accept(self, visitor: Visitor):\n",
    "        return visitor.visit_square(self)\n",
    "\n",
    "\n",
    "class Circle(GeometricShape):\n",
    "    def __init__(self, radius):\n",
    "        self.radius = radius\n",
    "\n",
    "    def accept(self, visitor: Visitor):\n",
    "        return visitor.visit_circle(self)\n"
   ]
  },
  {
   "cell_type": "markdown",
   "id": "0c13709e",
   "metadata": {},
   "source": [
    "## Example Run\n"
   ]
  },
  {
   "cell_type": "code",
   "execution_count": 12,
   "id": "cc0bb5db",
   "metadata": {},
   "outputs": [
    {
     "name": "stdout",
     "output_type": "stream",
     "text": [
      "Area: 16\n",
      "Perimeter: 16\n",
      "Area: 28.274333882308138\n",
      "Perimeter: 18.84955592153876\n"
     ]
    }
   ],
   "source": [
    "shape_elements = [Square(4), Circle(3)]\n",
    "\n",
    "area_visitor = AreaVisitor()\n",
    "perimeter_visitor = PerimeterVisitor()\n",
    "\n",
    "for shape in shape_elements:\n",
    "    print(f\"Area: {shape.accept(area_visitor)}\")\n",
    "    print(f\"Perimeter: {shape.accept(perimeter_visitor)}\")"
   ]
  },
  {
   "cell_type": "markdown",
   "id": "6f25cc08",
   "metadata": {},
   "source": [
    "## Benefits\n",
    "\n",
    "- Separates algorithms from object structure  \n",
    "- Easy to add new operations without changing element classes  \n",
    "\n",
    "## Drawbacks\n",
    "\n",
    "- Harder to add new element types as all visitors must be updated\n",
    "- Visitors might lack access to certain private fields and methods\n",
    "\n",
    "---"
   ]
  },
  {
   "cell_type": "markdown",
   "id": "b044731b",
   "metadata": {},
   "source": [
    "## Real-Life Example: File System Operations\n",
    "\n",
    "Two element types:\n",
    "- `File`\n",
    "- `Directory`\n",
    "\n",
    "We want to perform different operations on them:\n",
    "- Calculate total size\n",
    "- Generate a text report  \n",
    "\n",
    "Instead of embedding all these operations inside `File` and `Directory`,  \n",
    "we use the Visitor Pattern."
   ]
  },
  {
   "cell_type": "code",
   "execution_count": 13,
   "id": "6baa6624",
   "metadata": {},
   "outputs": [],
   "source": [
    "class File:\n",
    "    def __init__(self, name, size):\n",
    "        self.name = name\n",
    "        self.size = size\n",
    "\n",
    "    def accept(self, visitor):\n",
    "        visitor.visit_file(self)\n",
    "\n",
    "class Directory:\n",
    "    def __init__(self, name, children=None):\n",
    "        self.name = name\n",
    "        self.children = children if children else []\n",
    "\n",
    "    def accept(self, visitor):\n",
    "        visitor.visit_directory(self)\n"
   ]
  },
  {
   "cell_type": "markdown",
   "id": "92d2d203",
   "metadata": {},
   "source": [
    "## The Visitor Interface\n",
    "\n",
    "Each visitor knows how to \"handle\" both Files and Directories."
   ]
  },
  {
   "cell_type": "code",
   "execution_count": 14,
   "id": "68919b2c",
   "metadata": {},
   "outputs": [],
   "source": [
    "class FileSystemVisitor:\n",
    "    def visit_file(self, file):\n",
    "        pass\n",
    "\n",
    "    def visit_directory(self, directory):\n",
    "        pass\n",
    "\n",
    "\n",
    "class SizeVisitor(FileSystemVisitor):\n",
    "    def __init__(self):\n",
    "        self.total_size = 0\n",
    "\n",
    "    def visit_file(self, file):\n",
    "        self.total_size += file.size\n",
    "\n",
    "    def visit_directory(self, directory):\n",
    "        for child in directory.children:\n",
    "            child.accept(self)\n",
    "\n",
    "\n",
    "class ReportVisitor(FileSystemVisitor):\n",
    "    def __init__(self, indent=0):\n",
    "        self.indent = indent\n",
    "\n",
    "    def visit_file(self, file):\n",
    "        print(\"  \" * self.indent + f\"File: {file.name} ({file.size} KB)\")\n",
    "\n",
    "    def visit_directory(self, directory):\n",
    "        print(\"  \" * self.indent + f\"Directory: {directory.name}\")\n",
    "        for child in directory.children:\n",
    "            child.accept(ReportVisitor(self.indent + 1))"
   ]
  },
  {
   "cell_type": "markdown",
   "id": "087df22a",
   "metadata": {},
   "source": [
    "## Example Run\n"
   ]
  },
  {
   "cell_type": "code",
   "execution_count": 15,
   "id": "5a2c0055",
   "metadata": {},
   "outputs": [
    {
     "name": "stdout",
     "output_type": "stream",
     "text": [
      "Total size: 455 KB\n",
      "\n",
      "File system report:\n",
      "Directory: root\n",
      "  File: readme.txt (5 KB)\n",
      "  Directory: images\n",
      "    File: logo.png (150 KB)\n",
      "    File: banner.jpg (300 KB)\n"
     ]
    }
   ],
   "source": [
    "root = Directory(\"root\", [\n",
    "    File(\"readme.txt\", 5),\n",
    "    Directory(\"images\", [\n",
    "        File(\"logo.png\", 150),\n",
    "        File(\"banner.jpg\", 300)\n",
    "    ])\n",
    "])\n",
    "\n",
    "size_visitor = SizeVisitor()\n",
    "root.accept(size_visitor)\n",
    "print(\"Total size:\", size_visitor.total_size, \"KB\")\n",
    "print(\"\\nFile system report:\")\n",
    "root.accept(ReportVisitor())\n"
   ]
  },
  {
   "cell_type": "markdown",
   "id": "8f20a6ca",
   "metadata": {},
   "source": [
    "---\n",
    "\n",
    "# Summary\n",
    "\n",
    "Use the Visitor Pattern:\n",
    "- when you need to perform an operation on all elements with different logics\n",
    "- to clean up auxiliary behavior in business logic\n"
   ]
  }
 ],
 "metadata": {
  "kernelspec": {
   "display_name": "Python 3",
   "language": "python",
   "name": "python3"
  },
  "language_info": {
   "codemirror_mode": {
    "name": "ipython",
    "version": 3
   },
   "file_extension": ".py",
   "mimetype": "text/x-python",
   "name": "python",
   "nbconvert_exporter": "python",
   "pygments_lexer": "ipython3",
   "version": "3.13.7"
  }
 },
 "nbformat": 4,
 "nbformat_minor": 5
}
