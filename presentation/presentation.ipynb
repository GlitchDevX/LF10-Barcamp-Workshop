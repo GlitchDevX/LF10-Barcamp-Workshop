{
 "cells": [
  {
   "cell_type": "code",
   "execution_count": null,
   "id": "51800e3a",
   "metadata": {},
   "outputs": [],
   "source": [
    "from abc import abstractmethod\n",
    "from math import pi"
   ]
  },
  {
   "cell_type": "code",
   "execution_count": null,
   "id": "5d9735fa",
   "metadata": {},
   "outputs": [],
   "source": [
    "class Square:\n",
    "    def __init__(self, side):\n",
    "        self.side = side\n",
    "\n",
    "    def area(self):\n",
    "        pass\n",
    "\n",
    "    def perimeter(self):\n",
    "        pass\n",
    "\n",
    "class Circle:\n",
    "    def __init__(self, radius):\n",
    "        self.radius = radius\n",
    "    \n",
    "    def area(self):\n",
    "        pass\n",
    "\n",
    "    def perimeter(self):\n",
    "        pass"
   ]
  },
  {
   "cell_type": "code",
   "execution_count": null,
   "id": "0aea16c5",
   "metadata": {},
   "outputs": [],
   "source": [
    "class Visitor:\n",
    "\n",
    "    @abstractmethod\n",
    "    def visit_square(self, component):\n",
    "        pass\n",
    "\n",
    "    @abstractmethod\n",
    "    def visit_circle(self, component):\n",
    "        pass"
   ]
  },
  {
   "cell_type": "code",
   "execution_count": null,
   "id": "596a6c58",
   "metadata": {},
   "outputs": [],
   "source": [
    "class AreaVisitor(Visitor):\n",
    "\n",
    "    def visit_square(self, component):\n",
    "        return component.side ** 2\n",
    "\n",
    "    def visit_circle(self, component):\n",
    "        return pi * component.radius ** 2\n",
    "\n",
    "\n",
    "class PerimeterVisitor(Visitor):\n",
    "\n",
    "    def visit_square(self, component):\n",
    "        return component.side * 4\n",
    "\n",
    "    def visit_circle(self, component):\n",
    "        return 2 * pi * component.radius"
   ]
  },
  {
   "cell_type": "code",
   "execution_count": null,
   "id": "d2726c9a",
   "metadata": {},
   "outputs": [],
   "source": [
    "class GeometricShape:\n",
    "\n",
    "    @abstractmethod\n",
    "    def accept(self, visitor: Visitor):\n",
    "        pass"
   ]
  },
  {
   "cell_type": "code",
   "execution_count": 13,
   "id": "c5c1c977",
   "metadata": {},
   "outputs": [],
   "source": [
    "class Square(GeometricShape):\n",
    "    def __init__(self, side):\n",
    "        self.side = side\n",
    "\n",
    "    def accept(self, visitor: Visitor):\n",
    "        return visitor.visit_square(self)\n",
    "\n",
    "\n",
    "class Circle(GeometricShape):\n",
    "    def __init__(self, radius):\n",
    "        self.radius = radius\n",
    "\n",
    "    def accept(self, visitor: Visitor):\n",
    "        return visitor.visit_circle(self)\n"
   ]
  },
  {
   "cell_type": "code",
   "execution_count": 16,
   "id": "cc0bb5db",
   "metadata": {},
   "outputs": [
    {
     "name": "stdout",
     "output_type": "stream",
     "text": [
      "Area: 16\n",
      "Perimeter: 16\n",
      "Area: 28.274333882308138\n",
      "Perimeter: 18.84955592153876\n"
     ]
    }
   ],
   "source": [
    "shape_components = [Square(4), Circle(3)]\n",
    "\n",
    "area_visitor = AreaVisitor()\n",
    "perimeter_visitor = PerimeterVisitor()\n",
    "\n",
    "for shape in shape_components:\n",
    "    print(f\"Area: {shape.accept(area_visitor)}\")\n",
    "    print(f\"Perimeter: {shape.accept(perimeter_visitor)}\")"
   ]
  }
 ],
 "metadata": {
  "kernelspec": {
   "display_name": "Python 3",
   "language": "python",
   "name": "python3"
  },
  "language_info": {
   "codemirror_mode": {
    "name": "ipython",
    "version": 3
   },
   "file_extension": ".py",
   "mimetype": "text/x-python",
   "name": "python",
   "nbconvert_exporter": "python",
   "pygments_lexer": "ipython3",
   "version": "3.13.7"
  }
 },
 "nbformat": 4,
 "nbformat_minor": 5
}
